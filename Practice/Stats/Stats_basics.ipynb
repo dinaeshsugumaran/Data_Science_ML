{
 "cells": [
  {
   "cell_type": "code",
   "execution_count": 37,
   "metadata": {},
   "outputs": [],
   "source": [
    "import numpy as np\n",
    "import matplotlib.pyplot as plt\n",
    "%matplotlib inline\n",
    "import seaborn as sns\n"
   ]
  },
  {
   "cell_type": "markdown",
   "metadata": {},
   "source": [
    "Lets do the box plot - step by step"
   ]
  },
  {
   "cell_type": "code",
   "execution_count": 83,
   "metadata": {},
   "outputs": [
    {
     "name": "stdout",
     "output_type": "stream",
     "text": [
      "[  708   450   758   497   847   914   348   918   341   778   460   674\n",
      "   934   840   640   343   685   635   984   217   903   187   845   519\n",
      "   854   758   695   881   333   148   931   157   422   318   882   880\n",
      "   670   220   258   107   742   659   896   110   920   691   183   780\n",
      "  2000 -1000]\n"
     ]
    }
   ],
   "source": [
    "dataset = np.random.randint(75,1000,48)\n",
    "dataset =  np.append(dataset, [2000,-1000]  )\n",
    "print(dataset)"
   ]
  },
  {
   "cell_type": "code",
   "execution_count": 84,
   "metadata": {},
   "outputs": [
    {
     "name": "stdout",
     "output_type": "stream",
     "text": [
      "[-1000   107   110   148   157   183   187   217   220   258   318   333\n",
      "   341   343   348   422   450   460   497   519   635   640   659   670\n",
      "   674   685   691   695   708   742   758   758   778   780   840   845\n",
      "   847   854   880   881   882   896   903   914   918   920   931   934\n",
      "   984  2000]\n"
     ]
    }
   ],
   "source": [
    "dataset = np.sort(dataset)\n",
    "print(dataset)"
   ]
  },
  {
   "cell_type": "code",
   "execution_count": 85,
   "metadata": {},
   "outputs": [
    {
     "data": {
      "text/plain": [
       "50"
      ]
     },
     "execution_count": 85,
     "metadata": {},
     "output_type": "execute_result"
    }
   ],
   "source": [
    "length_of_dataset =  dataset.__len__()\n",
    "length_of_dataset"
   ]
  },
  {
   "cell_type": "code",
   "execution_count": 86,
   "metadata": {},
   "outputs": [
    {
     "name": "stdout",
     "output_type": "stream",
     "text": [
      "12.75 38.25\n"
     ]
    }
   ],
   "source": [
    "\n",
    "Q1_position = (0.25) * (length_of_dataset + 1)\n",
    "Q3_position = (0.75) * (length_of_dataset + 1)\n",
    "\n",
    "print(Q1_position,Q3_position)\n"
   ]
  },
  {
   "cell_type": "code",
   "execution_count": 87,
   "metadata": {},
   "outputs": [
    {
     "name": "stdout",
     "output_type": "stream",
     "text": [
      "341.5 852.25\n"
     ]
    }
   ],
   "source": [
    "q1_num, q3_num = np.percentile(dataset,[25,75])\n",
    "print(q1_num, q3_num)"
   ]
  },
  {
   "cell_type": "code",
   "execution_count": 88,
   "metadata": {},
   "outputs": [
    {
     "name": "stdout",
     "output_type": "stream",
     "text": [
      "510.75\n"
     ]
    }
   ],
   "source": [
    "iqr = q3_num-q1_num\n",
    "print(iqr)"
   ]
  },
  {
   "cell_type": "code",
   "execution_count": 117,
   "metadata": {},
   "outputs": [
    {
     "name": "stdout",
     "output_type": "stream",
     "text": [
      "-424.625 1618.375\n"
     ]
    }
   ],
   "source": [
    "min_val = q1_num -(1.5*iqr)\n",
    "max_val = q3_num +(1.5*iqr)\n",
    "\n",
    "print(min_val,max_val)"
   ]
  },
  {
   "cell_type": "code",
   "execution_count": 130,
   "metadata": {},
   "outputs": [],
   "source": [
    "def outlier_calculation(data):\n",
    "    outliers = []\n",
    "    for i in data:\n",
    "        if (i < min_val or i > max_val):\n",
    "            outliers.append(i)        \n",
    "    return outliers"
   ]
  },
  {
   "cell_type": "code",
   "execution_count": 131,
   "metadata": {},
   "outputs": [
    {
     "data": {
      "text/plain": [
       "[-1000, 2000]"
      ]
     },
     "execution_count": 131,
     "metadata": {},
     "output_type": "execute_result"
    }
   ],
   "source": [
    "outlier_calculation(dataset)"
   ]
  },
  {
   "cell_type": "code",
   "execution_count": 133,
   "metadata": {},
   "outputs": [
    {
     "data": {
      "text/plain": [
       "<Axes: >"
      ]
     },
     "execution_count": 133,
     "metadata": {},
     "output_type": "execute_result"
    },
    {
     "data": {
      "image/png": "[encoded data removed]",
      "text/plain": [
       "<Figure size 432x288 with 1 Axes>"
      ]
     },
     "metadata": {
      "needs_background": "light"
     },
     "output_type": "display_data"
    }
   ],
   "source": [
    "sns.boxplot(dataset)"
   ]
  },
  {
   "cell_type": "code",
   "execution_count": 140,
   "metadata": {},
   "outputs": [],
   "source": [
    "df.to_csv(\"output.csv\")"
   ]
  },
  {
   "cell_type": "code",
   "execution_count": 141,
   "metadata": {},
   "outputs": [
    {
     "name": "stdout",
     "output_type": "stream",
     "text": [
      "Defaulting to user installation because normal site-packages is not writeable\n",
      "Collecting Pyforest\n",
      "  Downloading pyforest-1.1.2.tar.gz (17 kB)\n",
      "  Preparing metadata (setup.py) ... \u001b[?25ldone\n",
      "\u001b[?25hBuilding wheels for collected packages: Pyforest\n",
      "  Building wheel for Pyforest (setup.py) ... \u001b[?25ldone\n",
      "\u001b[?25h  Created wheel for Pyforest: filename=pyforest-1.1.2-py2.py3-none-any.whl size=15873 sha256=a70ed3b0e274df39e1cc940029083c81bdfced772b9a6ad4c0847c708cfb3c41\n",
      "  Stored in directory: /Users/dinaeshs/Library/Caches/pip/wheels/52/95/7d/5f4379df9fdf1b40f3ee8bbf910f74e043afee664b6a3caab0\n",
      "Successfully built Pyforest\n",
      "Installing collected packages: Pyforest\n",
      "Successfully installed Pyforest-1.1.2\n",
      "Note: you may need to restart the kernel to use updated packages.\n"
     ]
    }
   ],
   "source": [
    "pip install Pyforest"
   ]
  },
  {
   "cell_type": "code",
   "execution_count": 2,
   "metadata": {},
   "outputs": [
    {
     "data": {
      "image/png": "[encoded data removed]",
      "text/plain": [
       "<Figure size 1200x600 with 2 Axes>"
      ]
     },
     "metadata": {},
     "output_type": "display_data"
    }
   ],
   "source": [
    "import matplotlib.pyplot as plt\n",
    "import numpy as np\n",
    "from scipy.stats import norm\n",
    "\n",
    "# Range of x values\n",
    "\n",
    "mu = 0\n",
    "sigma = 1\n",
    "x_values = np.linspace(mu - 4*sigma, mu + 4*sigma, 1000)\n",
    "\n",
    "# Calculate PDF and CDF values\n",
    "pdf_values = norm.pdf(x_values, mu, sigma)\n",
    "cdf_values = norm.cdf(x_values, mu, sigma)\n",
    "\n",
    "# Plot PDF\n",
    "plt.figure(figsize=(12, 6))\n",
    "\n",
    "plt.subplot(1, 2, 1)\n",
    "plt.plot(x_values, pdf_values, label='PDF', color='blue')\n",
    "plt.title('Normal Distribution PDF')\n",
    "plt.xlabel('x')\n",
    "plt.ylabel('Probability Density')\n",
    "plt.legend()\n",
    "\n",
    "# Plot CDF\n",
    "plt.subplot(1, 2, 2)\n",
    "plt.plot(x_values, cdf_values, label='CDF', color='red')\n",
    "plt.title('Normal Distribution CDF')\n",
    "plt.xlabel('x')\n",
    "plt.ylabel('Cumulative Probability')\n",
    "plt.legend()\n",
    "\n",
    "plt.tight_layout()\n",
    "plt.show()"
   ]
  },
  {
   "cell_type": "code",
   "execution_count": 19,
   "metadata": {},
   "outputs": [
    {
     "data": {
      "text/plain": [
       "array([-1,  3])"
      ]
     },
     "execution_count": 19,
     "metadata": {},
     "output_type": "execute_result"
    }
   ],
   "source": [
    "a = np.array([[2, 1],\n",
    "              [0, 3]])\n",
    "\n",
    "b = np.array([-1, 1])\n",
    "\n",
    "np.matmul(a, b)"
   ]
  },
  {
   "cell_type": "markdown",
   "metadata": {},
   "source": []
  },
  {
   "cell_type": "code",
   "execution_count": 11,
   "metadata": {},
   "outputs": [
    {
     "data": {
      "text/plain": [
       "array([[2, 1],\n",
       "       [0, 3]])"
      ]
     },
     "execution_count": 11,
     "metadata": {},
     "output_type": "execute_result"
    }
   ],
   "source": [
    "a = np.array([[2, 1],\n",
    "              [0, 3]])\n",
    "\n",
    "a"
   ]
  }
 ],
 "metadata": {
  "kernelspec": {
   "display_name": "Python 3",
   "language": "python",
   "name": "python3"
  },
  "language_info": {
   "codemirror_mode": {
    "name": "ipython",
    "version": 3
   },
   "file_extension": ".py",
   "mimetype": "text/x-python",
   "name": "python",
   "nbconvert_exporter": "python",
   "pygments_lexer": "ipython3",
   "version": "3.12.4"
  }
 },
 "nbformat": 4,
 "nbformat_minor": 2
}
